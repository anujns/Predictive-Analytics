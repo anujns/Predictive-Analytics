{
 "cells": [
  {
   "cell_type": "code",
   "execution_count": 1,
   "metadata": {},
   "outputs": [],
   "source": [
    "\n",
    "import findspark\n",
    "findspark.init('/home/cse587/spark-2.4.0-bin-hadoop2.7')"
   ]
  },
  {
   "cell_type": "code",
   "execution_count": 2,
   "metadata": {},
   "outputs": [],
   "source": [
    "import pandas as pd\n",
    "import pyspark\n",
    "from pyspark.sql import *"
   ]
  },
  {
   "cell_type": "code",
   "execution_count": 3,
   "metadata": {},
   "outputs": [],
   "source": [
    "from pyspark.ml.feature  import Tokenizer,RegexTokenizer,StopWordsRemover,CountVectorizer,OneHotEncoderEstimator,StringIndexer\n",
    "from pyspark.sql.functions import col, udf\n",
    "from pyspark.sql.types import *\n",
    "from pyspark.ml.classification import LogisticRegression"
   ]
  },
  {
   "cell_type": "code",
   "execution_count": 4,
   "metadata": {},
   "outputs": [],
   "source": [
    "from pyspark.mllib.classification import LogisticRegressionWithLBFGS, LogisticRegressionModel\n",
    "from pyspark.mllib.regression import LabeledPoint\n",
    "from pyspark.mllib.linalg import Vector as MLLibVector, Vectors as MLLibVectors\n",
    "from pyspark.ml.feature import Word2Vec\n",
    "import pyspark.sql.functions as f\n",
    "from pyspark.ml.feature import Word2VecModel"
   ]
  },
  {
   "cell_type": "code",
   "execution_count": 5,
   "metadata": {},
   "outputs": [],
   "source": [
    "sc=pyspark.SparkContext()"
   ]
  },
  {
   "cell_type": "code",
   "execution_count": 6,
   "metadata": {},
   "outputs": [],
   "source": [
    "spark= SparkSession \\\n",
    "       .builder \\\n",
    "       .appName(\"DICPA3\") \\\n",
    "       .config(\"spark.some.config.option\",\"some-value\") \\\n",
    "       .getOrCreate() "
   ]
  },
  {
   "cell_type": "code",
   "execution_count": 7,
   "metadata": {},
   "outputs": [],
   "source": [
    "train_pd = pd.read_csv('train.csv')"
   ]
  },
  {
   "cell_type": "code",
   "execution_count": 8,
   "metadata": {},
   "outputs": [],
   "source": [
    "mapping_pd = pd.read_csv('mapping.csv')\n"
   ]
  },
  {
   "cell_type": "code",
   "execution_count": 9,
   "metadata": {},
   "outputs": [],
   "source": [
    "mapping=spark.createDataFrame(mapping_pd)\n"
   ]
  },
  {
   "cell_type": "code",
   "execution_count": 10,
   "metadata": {},
   "outputs": [],
   "source": [
    "train=spark.createDataFrame(train_pd)"
   ]
  },
  {
   "cell_type": "code",
   "execution_count": 11,
   "metadata": {},
   "outputs": [
    {
     "name": "stdout",
     "output_type": "stream",
     "text": [
      "+--------+--------------------+--------------------+--------------------+\n",
      "|movie_id|          movie_name|                plot|               genre|\n",
      "+--------+--------------------+--------------------+--------------------+\n",
      "|23890098|          Taxi Blues|Shlykov, a hard-w...|['World cinema', ...|\n",
      "|31186339|    The Hunger Games|The nation of Pan...|['Action/Adventur...|\n",
      "|20663735|          Narasimham|Poovalli Induchoo...|['Musical', 'Acti...|\n",
      "| 2231378|  The Lemon Drop Kid|The Lemon Drop Ki...|          ['Comedy']|\n",
      "|  595909|   A Cry in the Dark|Seventh-day Adven...|['Crime Fiction',...|\n",
      "| 5272176|            End Game|The president is ...|['Action/Adventur...|\n",
      "| 1952976|          Dark Water|{{plot}} The film...|['Thriller', 'Dra...|\n",
      "|24225279|                Sing|The story begins ...|           ['Drama']|\n",
      "| 2462689|       Meet John Doe|Infuriated at bei...|['Black-and-white...|\n",
      "|20532852|Destination Meatball|A line of people ...|['Animation', 'Sh...|\n",
      "|15401493|    Husband for Hire|Lola  attempts to...|          ['Comedy']|\n",
      "|18188932|         Up and Down|Milan and Goran a...|['Crime Fiction',...|\n",
      "| 2940516|Ghost In The Noon...|Bumbling pirate c...|          ['Comedy']|\n",
      "| 1480747|       House Party 2|{{plot}} Followin...|          ['Comedy']|\n",
      "|24448645|Forest of the Dam...|Despite Lucy's re...|          ['Horror']|\n",
      "|15072401|Charlie Chan's Se...|Alan Colby, heir ...|['Crime Fiction',...|\n",
      "| 4018288|     The Biggest Fan|Debbie's favorite...|           ['Drama']|\n",
      "| 4596602|      Ashes to Ashes|Ashes to Ashes is...|['Crime Fiction',...|\n",
      "|15224586|        Green Dragon|The film follows ...|  ['Indie', 'Drama']|\n",
      "|15585766|  The Rats of Tobruk|Three friends are...|           ['Drama']|\n",
      "+--------+--------------------+--------------------+--------------------+\n",
      "only showing top 20 rows\n",
      "\n"
     ]
    }
   ],
   "source": [
    "train.show()"
   ]
  },
  {
   "cell_type": "code",
   "execution_count": 12,
   "metadata": {},
   "outputs": [],
   "source": [
    "regexTokenizer = RegexTokenizer(inputCol=\"plot\", outputCol=\"words\", pattern=\"\\\\W\")\n",
    "\n",
    "\n",
    "train=regexTokenizer.transform(train)\n",
    "\n",
    "stopwordsRemover = StopWordsRemover(inputCol=\"words\", outputCol=\"filtered\")\n",
    "\n",
    "train=stopwordsRemover.transform(train)\n",
    "####################################################################################################\n",
    "# word2Vectrain = Word2Vec(vectorSize=1500, inputCol=\"filtered\", outputCol=\"features\" ,maxIter=1)\n",
    "\n",
    "# modeltrain = word2Vectrain.fit(train)\n",
    "# modeltrain.save('./part4trainword2vec1500')\n",
    "####################################################################################################\n",
    "# word2Vectrain = Word2Vec(vectorSize=500, inputCol=\"filtered\", outputCol=\"features\" ,maxIter=1)\n",
    "\n",
    "# modeltrain = word2Vectrain.fit(train)\n",
    "# modeltrain.save('./part4trainword2vec500')\n",
    "####################################################################################################"
   ]
  },
  {
   "cell_type": "code",
   "execution_count": 13,
   "metadata": {},
   "outputs": [],
   "source": [
    "\n",
    "#trainmodel = Word2VecModel.load('./part4trainword2vec1500')\n",
    "trainmodel = Word2VecModel.load('./part4trainword2vec500')\n",
    "train = trainmodel.transform(train)"
   ]
  },
  {
   "cell_type": "code",
   "execution_count": 14,
   "metadata": {},
   "outputs": [],
   "source": [
    "mapping=spark.createDataFrame(mapping_pd,['id',\"genre\"])\n",
    "mapgenre=mapping.select(\"genre\",\"id\").rdd.collectAsMap()"
   ]
  },
  {
   "cell_type": "code",
   "execution_count": 15,
   "metadata": {},
   "outputs": [
    {
     "name": "stdout",
     "output_type": "stream",
     "text": [
      "+---+----------------+\n",
      "| id|           genre|\n",
      "+---+----------------+\n",
      "|  0|           Drama|\n",
      "|  1|          Comedy|\n",
      "|  2|    Romance Film|\n",
      "|  3|        Thriller|\n",
      "|  4|          Action|\n",
      "|  5|    World cinema|\n",
      "|  6|   Crime Fiction|\n",
      "|  7|          Horror|\n",
      "|  8| Black-and-white|\n",
      "|  9|           Indie|\n",
      "| 10|Action/Adventure|\n",
      "| 11|       Adventure|\n",
      "| 12|     Family Film|\n",
      "| 13|      Short Film|\n",
      "| 14|  Romantic drama|\n",
      "| 15|       Animation|\n",
      "| 16|         Musical|\n",
      "| 17| Science Fiction|\n",
      "| 18|         Mystery|\n",
      "| 19| Romantic comedy|\n",
      "+---+----------------+\n",
      "\n"
     ]
    }
   ],
   "source": [
    "mapping.show()\n",
    "count=mapping.count()"
   ]
  },
  {
   "cell_type": "code",
   "execution_count": 16,
   "metadata": {},
   "outputs": [
    {
     "name": "stdout",
     "output_type": "stream",
     "text": [
      "+--------+--------------------+--------------------+--------------------+--------------------+--------------------+--------------------+\n",
      "|movie_id|          movie_name|                plot|               genre|               words|            filtered|            features|\n",
      "+--------+--------------------+--------------------+--------------------+--------------------+--------------------+--------------------+\n",
      "|23890098|          Taxi Blues|Shlykov, a hard-w...|['World cinema', ...|[shlykov, a, hard...|[shlykov, hard, w...|[-0.0258779611767...|\n",
      "|31186339|    The Hunger Games|The nation of Pan...|['Action/Adventur...|[the, nation, of,...|[nation, panem, c...|[0.01190575840073...|\n",
      "|20663735|          Narasimham|Poovalli Induchoo...|['Musical', 'Acti...|[poovalli, induch...|[poovalli, induch...|[-0.0049900839706...|\n",
      "| 2231378|  The Lemon Drop Kid|The Lemon Drop Ki...|          ['Comedy']|[the, lemon, drop...|[lemon, drop, kid...|[-0.0023341972278...|\n",
      "|  595909|   A Cry in the Dark|Seventh-day Adven...|['Crime Fiction',...|[seventh, day, ad...|[seventh, day, ad...|[-0.0144077781772...|\n",
      "| 5272176|            End Game|The president is ...|['Action/Adventur...|[the, president, ...|[president, way, ...|[-0.0054802323886...|\n",
      "| 1952976|          Dark Water|{{plot}} The film...|['Thriller', 'Dra...|[plot, the, film,...|[plot, film, open...|[-0.0233243806883...|\n",
      "|24225279|                Sing|The story begins ...|           ['Drama']|[the, story, begi...|[story, begins, h...|[3.82496744674270...|\n",
      "| 2462689|       Meet John Doe|Infuriated at bei...|['Black-and-white...|[infuriated, at, ...|[infuriated, told...|[-0.0091316081517...|\n",
      "|20532852|Destination Meatball|A line of people ...|['Animation', 'Sh...|[a, line, of, peo...|[line, people, dr...|[0.01386682893114...|\n",
      "|15401493|    Husband for Hire|Lola  attempts to...|          ['Comedy']|[lola, attempts, ...|[lola, attempts, ...|[-0.0061433933152...|\n",
      "|18188932|         Up and Down|Milan and Goran a...|['Crime Fiction',...|[milan, and, gora...|[milan, goran, tw...|[0.01378680495968...|\n",
      "| 2940516|Ghost In The Noon...|Bumbling pirate c...|          ['Comedy']|[bumbling, pirate...|[bumbling, pirate...|[0.00439556976647...|\n",
      "| 1480747|       House Party 2|{{plot}} Followin...|          ['Comedy']|[plot, following,...|[plot, following,...|[0.00599432231136...|\n",
      "|24448645|Forest of the Dam...|Despite Lucy's re...|          ['Horror']|[despite, lucy, s...|[despite, lucy, r...|[-0.0284859580385...|\n",
      "|15072401|Charlie Chan's Se...|Alan Colby, heir ...|['Crime Fiction',...|[alan, colby, hei...|[alan, colby, hei...|[-0.0246616781611...|\n",
      "| 4018288|     The Biggest Fan|Debbie's favorite...|           ['Drama']|[debbie, s, favor...|[debbie, favorite...|[-0.0151626199540...|\n",
      "| 4596602|      Ashes to Ashes|Ashes to Ashes is...|['Crime Fiction',...|[ashes, to, ashes...|[ashes, ashes, se...|[0.01393603356919...|\n",
      "|15224586|        Green Dragon|The film follows ...|  ['Indie', 'Drama']|[the, film, follo...|[film, follows, e...|[-0.0138741595170...|\n",
      "|15585766|  The Rats of Tobruk|Three friends are...|           ['Drama']|[three, friends, ...|[three, friends, ...|[-0.0061011677455...|\n",
      "+--------+--------------------+--------------------+--------------------+--------------------+--------------------+--------------------+\n",
      "only showing top 20 rows\n",
      "\n"
     ]
    }
   ],
   "source": [
    "\n",
    "train.show()\n"
   ]
  },
  {
   "cell_type": "code",
   "execution_count": 17,
   "metadata": {},
   "outputs": [
    {
     "name": "stdout",
     "output_type": "stream",
     "text": [
      "+----------------+\n",
      "|           index|\n",
      "+----------------+\n",
      "|          [0, 5]|\n",
      "|  [0, 4, 10, 17]|\n",
      "|      [0, 4, 16]|\n",
      "|             [1]|\n",
      "|       [0, 5, 6]|\n",
      "|   [0, 3, 4, 10]|\n",
      "|       [0, 3, 7]|\n",
      "|             [0]|\n",
      "|[0, 1, 2, 8, 19]|\n",
      "|    [12, 13, 15]|\n",
      "|             [1]|\n",
      "|    [0, 1, 5, 6]|\n",
      "|             [1]|\n",
      "|             [1]|\n",
      "|             [7]|\n",
      "|   [3, 6, 7, 18]|\n",
      "|             [0]|\n",
      "| [2, 3, 4, 6, 9]|\n",
      "|          [0, 9]|\n",
      "|             [0]|\n",
      "+----------------+\n",
      "only showing top 20 rows\n",
      "\n"
     ]
    }
   ],
   "source": [
    "\n",
    "def function1(g):\n",
    "    x=[]\n",
    "    genre=g[1:-1].split(\",\")  \n",
    "    for i in genre:\n",
    "        value=i.strip()[1:-1]\n",
    "        x.append(mapgenre.get(value))\n",
    "    x.sort()\n",
    "    return x\n",
    "myfunction1=f.udf(function1,ArrayType(IntegerType()))\n",
    "train=train.withColumn(\"index\",myfunction1(\"genre\"))\n",
    "\n",
    "train.select('index').show()"
   ]
  },
  {
   "cell_type": "code",
   "execution_count": 18,
   "metadata": {},
   "outputs": [
    {
     "name": "stdout",
     "output_type": "stream",
     "text": [
      "+--------------------+----------------+--------------------+\n",
      "|            features|           index|               label|\n",
      "+--------------------+----------------+--------------------+\n",
      "|[-0.0258779611767...|          [0, 5]|[1, 0, 0, 0, 0, 1...|\n",
      "|[0.01190575840073...|  [0, 4, 10, 17]|[1, 0, 0, 0, 1, 0...|\n",
      "|[-0.0049900839706...|      [0, 4, 16]|[1, 0, 0, 0, 1, 0...|\n",
      "|[-0.0023341972278...|             [1]|[0, 1, 0, 0, 0, 0...|\n",
      "|[-0.0144077781772...|       [0, 5, 6]|[1, 0, 0, 0, 0, 1...|\n",
      "|[-0.0054802323886...|   [0, 3, 4, 10]|[1, 0, 0, 1, 1, 0...|\n",
      "|[-0.0233243806883...|       [0, 3, 7]|[1, 0, 0, 1, 0, 0...|\n",
      "|[3.82496744674270...|             [0]|[1, 0, 0, 0, 0, 0...|\n",
      "|[-0.0091316081517...|[0, 1, 2, 8, 19]|[1, 1, 1, 0, 0, 0...|\n",
      "|[0.01386682893114...|    [12, 13, 15]|[0, 0, 0, 0, 0, 0...|\n",
      "|[-0.0061433933152...|             [1]|[0, 1, 0, 0, 0, 0...|\n",
      "|[0.01378680495968...|    [0, 1, 5, 6]|[1, 1, 0, 0, 0, 1...|\n",
      "|[0.00439556976647...|             [1]|[0, 1, 0, 0, 0, 0...|\n",
      "|[0.00599432231136...|             [1]|[0, 1, 0, 0, 0, 0...|\n",
      "|[-0.0284859580385...|             [7]|[0, 0, 0, 0, 0, 0...|\n",
      "|[-0.0246616781611...|   [3, 6, 7, 18]|[0, 0, 0, 1, 0, 0...|\n",
      "|[-0.0151626199540...|             [0]|[1, 0, 0, 0, 0, 0...|\n",
      "|[0.01393603356919...| [2, 3, 4, 6, 9]|[0, 0, 1, 1, 1, 0...|\n",
      "|[-0.0138741595170...|          [0, 9]|[1, 0, 0, 0, 0, 0...|\n",
      "|[-0.0061011677455...|             [0]|[1, 0, 0, 0, 0, 0...|\n",
      "+--------------------+----------------+--------------------+\n",
      "only showing top 20 rows\n",
      "\n"
     ]
    }
   ],
   "source": [
    "\n",
    "def function2(g):\n",
    "    y=1\n",
    "    x=[]\n",
    "    for i in range(0,count):\n",
    "        x.append(0)\n",
    "    \n",
    "    \n",
    "    for i in g:\n",
    "        x[i]=1\n",
    "        \n",
    "    \n",
    "    return x\n",
    "myfunction2=f.udf(function2,ArrayType(IntegerType()))\n",
    "traindata=train.withColumn(\"label\",myfunction2(\"index\"))\n",
    "traindata.select('features','index','label').show()"
   ]
  },
  {
   "cell_type": "code",
   "execution_count": 19,
   "metadata": {},
   "outputs": [
    {
     "name": "stdout",
     "output_type": "stream",
     "text": [
      "+--------+--------------------+--------------------+\n",
      "|movie_id|          movie_name|                plot|\n",
      "+--------+--------------------+--------------------+\n",
      "| 1335380|              Exodus|The film is based...|\n",
      "|29062594|A la salida nos v...|A group of teenag...|\n",
      "| 9252321|   Come Back, Africa|This story of a Z...|\n",
      "|13455076|       A Merry Mixup|The Stooges play ...|\n",
      "|24165951|        Getting Even|A soldier-of-fort...|\n",
      "| 1925869|  River of No Return|Set in the Northw...|\n",
      "|10799612|          Amici miei|Like in many othe...|\n",
      "|28238240|Mickey's Big Game...|Mickey and the Sc...|\n",
      "|17124781|The Good, the Bad...|In the desert wil...|\n",
      "|28207941|    The Dancing Fool|Bimbo and Koko ar...|\n",
      "|19174305|              Tahaan|Tahaan  lives wit...|\n",
      "|18392317|     Mysterious Mose|Betty is startled...|\n",
      "|34420857|Kelviyum Naane Pa...|Nirmal ([[Karthik...|\n",
      "| 4039635|   First on the Moon|A group of journa...|\n",
      "| 8034072|  Journey of a Woman|Vaibhavari Sahay,...|\n",
      "| 4016437|     Sophie's Choice|In 1947, the movi...|\n",
      "| 1520023|  Ninja Resurrection|Ninja Resurrectio...|\n",
      "|24589422|      Maria’s Lovers|In the spring of ...|\n",
      "|35068740|           Chinnavar|Muthu ([[Prabhu  ...|\n",
      "|21132951|              Aparan|Vishwanathan , an...|\n",
      "+--------+--------------------+--------------------+\n",
      "only showing top 20 rows\n",
      "\n"
     ]
    }
   ],
   "source": [
    "test_pd = pd.read_csv('test.csv')\n",
    "test=spark.createDataFrame(test_pd)\n",
    "test.show()"
   ]
  },
  {
   "cell_type": "code",
   "execution_count": 20,
   "metadata": {},
   "outputs": [],
   "source": [
    "\n",
    "\n",
    "\n",
    "test=regexTokenizer.transform(test)\n",
    "\n",
    "\n",
    "\n",
    "test=stopwordsRemover.transform(test)\n",
    "\n",
    "\n",
    "\n"
   ]
  },
  {
   "cell_type": "code",
   "execution_count": 21,
   "metadata": {},
   "outputs": [],
   "source": [
    "####################################################################################################\n",
    "# word2Vectest = Word2Vec( vectorSize=1500,inputCol=\"filtered\", outputCol=\"features\" ,maxIter=1)\n",
    "\n",
    "# modeltest= word2Vectest.fit(test)\n",
    "# modeltest.save('./part4testword2vec1500')\n",
    "####################################################################################################\n",
    "# word2Vectest = Word2Vec( vectorSize=500,inputCol=\"filtered\", outputCol=\"features\" ,maxIter=1)\n",
    "\n",
    "# modeltest= word2Vectest.fit(test)\n",
    "# modeltest.save('./part4testword2vec500')\n",
    "####################################################################################################"
   ]
  },
  {
   "cell_type": "code",
   "execution_count": 22,
   "metadata": {},
   "outputs": [
    {
     "name": "stdout",
     "output_type": "stream",
     "text": [
      "+--------+--------------------+--------------------+--------------------+--------------------+--------------------+\n",
      "|movie_id|          movie_name|                plot|               words|            filtered|            features|\n",
      "+--------+--------------------+--------------------+--------------------+--------------------+--------------------+\n",
      "| 1335380|              Exodus|The film is based...|[the, film, is, b...|[film, based, eve...|[0.00713589835897...|\n",
      "|29062594|A la salida nos v...|A group of teenag...|[a, group, of, te...|[group, teenagers...|[0.00307899780427...|\n",
      "| 9252321|   Come Back, Africa|This story of a Z...|[this, story, of,...|[story, zulu, fam...|[0.00808871257595...|\n",
      "|13455076|       A Merry Mixup|The Stooges play ...|[the, stooges, pl...|[stooges, play, t...|[-0.0012985587395...|\n",
      "|24165951|        Getting Even|A soldier-of-fort...|[a, soldier, of, ...|[soldier, fortune...|[0.00747495703035...|\n",
      "| 1925869|  River of No Return|Set in the Northw...|[set, in, the, no...|[set, northwester...|[-0.0019821644596...|\n",
      "|10799612|          Amici miei|Like in many othe...|[like, in, many, ...|[like, many, moni...|[3.64272555548718...|\n",
      "|28238240|Mickey's Big Game...|Mickey and the Sc...|[mickey, and, the...|[mickey, scorpion...|[0.00931342728810...|\n",
      "|17124781|The Good, the Bad...|In the desert wil...|[in, the, desert,...|[desert, wilderne...|[0.00155392260494...|\n",
      "|28207941|    The Dancing Fool|Bimbo and Koko ar...|[bimbo, and, koko...|[bimbo, koko, sig...|[-0.0031433693282...|\n",
      "|19174305|              Tahaan|Tahaan  lives wit...|[tahaan, lives, w...|[tahaan, lives, g...|[0.00361900076288...|\n",
      "|18392317|     Mysterious Mose|Betty is startled...|[betty, is, start...|[betty, startled,...|[-0.0015033443152...|\n",
      "|34420857|Kelviyum Naane Pa...|Nirmal ([[Karthik...|[nirmal, karthik,...|[nirmal, karthik,...|[-0.0013525679092...|\n",
      "| 4039635|   First on the Moon|A group of journa...|[a, group, of, jo...|[group, journalis...|[0.01970056087604...|\n",
      "| 8034072|  Journey of a Woman|Vaibhavari Sahay,...|[vaibhavari, saha...|[vaibhavari, saha...|[0.00448675249701...|\n",
      "| 4016437|     Sophie's Choice|In 1947, the movi...|[in, 1947, the, m...|[1947, movie, nar...|[0.00129231638049...|\n",
      "| 1520023|  Ninja Resurrection|Ninja Resurrectio...|[ninja, resurrect...|[ninja, resurrect...|[-0.0037545361542...|\n",
      "|24589422|      Maria’s Lovers|In the spring of ...|[in, the, spring,...|[spring, 1946, iv...|[0.00272851279273...|\n",
      "|35068740|           Chinnavar|Muthu ([[Prabhu  ...|[muthu, prabhu, a...|[muthu, prabhu, v...|[-0.0029884120885...|\n",
      "|21132951|              Aparan|Vishwanathan , an...|[vishwanathan, an...|[vishwanathan, in...|[3.69672499410281...|\n",
      "+--------+--------------------+--------------------+--------------------+--------------------+--------------------+\n",
      "only showing top 20 rows\n",
      "\n"
     ]
    }
   ],
   "source": [
    "#testmodel = Word2VecModel.load('./part4testword2vec1500')\n",
    "testmodel = Word2VecModel.load('./part4testword2vec500')\n",
    "testdata = testmodel.transform(test)\n",
    "testdata.show()"
   ]
  },
  {
   "cell_type": "code",
   "execution_count": null,
   "metadata": {},
   "outputs": [],
   "source": [
    "x=[]\n",
    "\n",
    "for i in range(0,count):\n",
    "    \n",
    "    def parsePoint(line):\n",
    "    \n",
    "        return LabeledPoint(line.label[i], MLLibVectors.fromML(line.features))\n",
    "    parsedData = traindata.rdd.map(parsePoint)\n",
    "    part4model=LogisticRegressionWithLBFGS.train(parsedData)\n",
    "    filename='./part4test'+str(i)\n",
    "    part4model.save(spark,filename)\n",
    "    newmodel = LogisticRegressionModel.load(spark,filename)\n",
    "    labelsAndPreds = testdata.rdd.map(lambda p: (p.movie_id, newmodel.predict(MLLibVectors.fromML(p.features))))\n",
    "    x.append(labelsAndPreds.collect())"
   ]
  },
  {
   "cell_type": "code",
   "execution_count": null,
   "metadata": {},
   "outputs": [],
   "source": [
    "y={}\n",
    "for i in x:\n",
    "    for j in i:\n",
    "        if j[0] in y:\n",
    "            y[j[0]].append(j[1])\n",
    "        else:\n",
    "            y[j[0]]=[]\n",
    "            y[j[0]].append(j[1])\n",
    "for i in y:\n",
    "    print(i,y[i])"
   ]
  },
  {
   "cell_type": "code",
   "execution_count": null,
   "metadata": {},
   "outputs": [],
   "source": [
    "keypred={}\n",
    "\n",
    "for i in y:\n",
    "    x=\"\"\n",
    "    for j in y[i]:\n",
    "        x=x+\" \"+str(j)\n",
    "    x=x.strip()\n",
    "    keypred[i]=x\n",
    "for i in keypred:\n",
    "    print(i,str(keypred[i]))"
   ]
  },
  {
   "cell_type": "code",
   "execution_count": null,
   "metadata": {},
   "outputs": [],
   "source": [
    "import csv\n",
    "\n",
    "with open ('output4.csv','w',newline=\"\") as mfile:\n",
    "    writer=csv.writer(mfile)\n",
    "    writer.writerow([\"movie_id\",\"predictions\"])\n",
    "    for key , value in keypred.items():\n",
    "        writer.writerow([key,value])"
   ]
  },
  {
   "cell_type": "code",
   "execution_count": null,
   "metadata": {},
   "outputs": [],
   "source": []
  },
  {
   "cell_type": "code",
   "execution_count": null,
   "metadata": {},
   "outputs": [],
   "source": [
    "\n"
   ]
  },
  {
   "cell_type": "code",
   "execution_count": null,
   "metadata": {},
   "outputs": [],
   "source": []
  },
  {
   "cell_type": "code",
   "execution_count": null,
   "metadata": {},
   "outputs": [],
   "source": []
  },
  {
   "cell_type": "code",
   "execution_count": null,
   "metadata": {},
   "outputs": [],
   "source": []
  },
  {
   "cell_type": "code",
   "execution_count": null,
   "metadata": {},
   "outputs": [],
   "source": []
  },
  {
   "cell_type": "code",
   "execution_count": null,
   "metadata": {},
   "outputs": [],
   "source": []
  }
 ],
 "metadata": {
  "kernelspec": {
   "display_name": "Python 3",
   "language": "python",
   "name": "python3"
  },
  "language_info": {
   "codemirror_mode": {
    "name": "ipython",
    "version": 3
   },
   "file_extension": ".py",
   "mimetype": "text/x-python",
   "name": "python",
   "nbconvert_exporter": "python",
   "pygments_lexer": "ipython3",
   "version": "3.7.6"
  }
 },
 "nbformat": 4,
 "nbformat_minor": 2
}
