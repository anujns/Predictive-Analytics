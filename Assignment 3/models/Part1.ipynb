{
 "cells": [
  {
   "cell_type": "code",
   "execution_count": null,
   "metadata": {},
   "outputs": [],
   "source": [
    "import findspark\n",
    "findspark.init('/home/cse587/spark-2.4.0-bin-hadoop2.7')"
   ]
  },
  {
   "cell_type": "code",
   "execution_count": null,
   "metadata": {},
   "outputs": [],
   "source": [
    "import pandas as pd\n",
    "import pyspark\n",
    "from pyspark.sql import *"
   ]
  },
  {
   "cell_type": "code",
   "execution_count": null,
   "metadata": {},
   "outputs": [],
   "source": [
    "from pyspark.ml.feature  import RegexTokenizer,StopWordsRemover,CountVectorizer,OneHotEncoderEstimator,StringIndexer\n",
    "from pyspark.sql.functions import col, udf\n",
    "import pyspark.sql.functions as f\n",
    "from pyspark.sql.types import *\n"
   ]
  },
  {
   "cell_type": "code",
   "execution_count": null,
   "metadata": {},
   "outputs": [],
   "source": [
    "from pyspark.mllib.classification import LogisticRegressionWithLBFGS, LogisticRegressionModel\n",
    "from pyspark.mllib.regression import LabeledPoint\n",
    "from pyspark.mllib.linalg import Vector as MLLibVector, Vectors as MLLibVectors"
   ]
  },
  {
   "cell_type": "code",
   "execution_count": null,
   "metadata": {},
   "outputs": [],
   "source": [
    "sc=pyspark.SparkContext()"
   ]
  },
  {
   "cell_type": "code",
   "execution_count": null,
   "metadata": {},
   "outputs": [],
   "source": [
    "spark= SparkSession \\\n",
    "       .builder \\\n",
    "       .appName(\"DICPA3\") \\\n",
    "       .config(\"spark.some.config.option\",\"some-value\") \\\n",
    "       .getOrCreate() "
   ]
  },
  {
   "cell_type": "code",
   "execution_count": null,
   "metadata": {},
   "outputs": [],
   "source": [
    "train_pd = pd.read_csv('train.csv')"
   ]
  },
  {
   "cell_type": "code",
   "execution_count": null,
   "metadata": {},
   "outputs": [],
   "source": [
    "mapping_pd = pd.read_csv('mapping.csv')\n"
   ]
  },
  {
   "cell_type": "code",
   "execution_count": null,
   "metadata": {},
   "outputs": [],
   "source": [
    "mapping=spark.createDataFrame(mapping_pd)\n"
   ]
  },
  {
   "cell_type": "code",
   "execution_count": null,
   "metadata": {},
   "outputs": [],
   "source": [
    "train=spark.createDataFrame(train_pd)"
   ]
  },
  {
   "cell_type": "code",
   "execution_count": null,
   "metadata": {},
   "outputs": [],
   "source": [
    "train.show()"
   ]
  },
  {
   "cell_type": "code",
   "execution_count": null,
   "metadata": {},
   "outputs": [],
   "source": [
    "regexTokenizer = RegexTokenizer(inputCol=\"plot\", outputCol=\"words\", pattern=\"\\\\W\")\n",
    "\n",
    "\n",
    "train=regexTokenizer.transform(train)\n",
    "\n",
    "stopwordsRemover = StopWordsRemover(inputCol=\"words\", outputCol=\"filtered\")\n",
    "\n",
    "train=stopwordsRemover.transform(train)\n",
    "\n",
    "\n"
   ]
  },
  {
   "cell_type": "code",
   "execution_count": null,
   "metadata": {},
   "outputs": [],
   "source": [
    "countvectors = CountVectorizer(inputCol=\"filtered\", outputCol=\"features\",vocabSize=1500)"
   ]
  },
  {
   "cell_type": "code",
   "execution_count": null,
   "metadata": {},
   "outputs": [],
   "source": [
    "model1=countvectors.fit(train)"
   ]
  },
  {
   "cell_type": "code",
   "execution_count": null,
   "metadata": {},
   "outputs": [],
   "source": [
    "train=model1.transform(train)"
   ]
  },
  {
   "cell_type": "code",
   "execution_count": null,
   "metadata": {},
   "outputs": [],
   "source": [
    "mapping=spark.createDataFrame(mapping_pd,['id',\"genre\"])\n",
    "mapgenre=mapping.select(\"genre\",\"id\").rdd.collectAsMap()"
   ]
  },
  {
   "cell_type": "code",
   "execution_count": null,
   "metadata": {},
   "outputs": [],
   "source": [
    "mapping.show()\n",
    "count=mapping.count()"
   ]
  },
  {
   "cell_type": "code",
   "execution_count": null,
   "metadata": {},
   "outputs": [],
   "source": [
    "\n",
    "train.show()\n"
   ]
  },
  {
   "cell_type": "code",
   "execution_count": null,
   "metadata": {},
   "outputs": [],
   "source": [
    "\n",
    "def function1(g):\n",
    "    x=[]\n",
    "    genre=g[1:-1].split(\",\")  \n",
    "    for i in genre:\n",
    "        value=i.strip()[1:-1]\n",
    "        x.append(mapgenre.get(value))\n",
    "    x.sort()\n",
    "    return x\n",
    "myfunction1=f.udf(function1,ArrayType(IntegerType()))\n",
    "train=train.withColumn(\"index\",myfunction1(\"genre\"))\n",
    "\n",
    "train.select('index').show()"
   ]
  },
  {
   "cell_type": "code",
   "execution_count": null,
   "metadata": {},
   "outputs": [],
   "source": [
    "\n",
    "def function2(g):\n",
    "    y=1\n",
    "    x=[]\n",
    "    for i in range(0,count):\n",
    "        x.append(0)\n",
    "    \n",
    "    \n",
    "    for i in g:\n",
    "        x[i]=1\n",
    "        \n",
    "    \n",
    "    return x\n",
    "myfunction2=f.udf(function2,ArrayType(IntegerType()))\n",
    "traindata=train.withColumn(\"label\",myfunction2(\"index\"))\n",
    "traindata.select('movie_id','features','index','label').show()"
   ]
  },
  {
   "cell_type": "code",
   "execution_count": null,
   "metadata": {},
   "outputs": [],
   "source": [
    "test_pd = pd.read_csv('test.csv')"
   ]
  },
  {
   "cell_type": "code",
   "execution_count": null,
   "metadata": {},
   "outputs": [],
   "source": [
    "test=spark.createDataFrame(test_pd)"
   ]
  },
  {
   "cell_type": "code",
   "execution_count": null,
   "metadata": {},
   "outputs": [],
   "source": [
    "test.show()"
   ]
  },
  {
   "cell_type": "code",
   "execution_count": null,
   "metadata": {},
   "outputs": [],
   "source": [
    "test=regexTokenizer.transform(test)\n",
    "\n",
    "test=stopwordsRemover.transform(test)"
   ]
  },
  {
   "cell_type": "code",
   "execution_count": null,
   "metadata": {},
   "outputs": [],
   "source": [
    "test=model1.transform(test)"
   ]
  },
  {
   "cell_type": "code",
   "execution_count": null,
   "metadata": {},
   "outputs": [],
   "source": [
    "test.show()"
   ]
  },
  {
   "cell_type": "code",
   "execution_count": null,
   "metadata": {},
   "outputs": [],
   "source": [
    "x=[]\n",
    "\n",
    "for i in range(0,count):\n",
    "    \n",
    "#     def parsePoint(line):\n",
    "    \n",
    "#         return LabeledPoint(line.label[i], MLLibVectors.fromML(line.features))\n",
    "#     parsedData = traindata.rdd.map(parsePoint)\n",
    "#     part1model=LogisticRegressionWithLBFGS.train(parsedData)\n",
    "    filename='./part1test'+str(i)\n",
    "#     part1model.save(spark,filename)\n",
    "    newmodel = LogisticRegressionModel.load(spark,filename)\n",
    "    labelsAndPreds = test.rdd.map(lambda p: (p.movie_id, newmodel.predict(MLLibVectors.fromML(p.features))))\n",
    "    x.append(labelsAndPreds.collect())"
   ]
  },
  {
   "cell_type": "code",
   "execution_count": null,
   "metadata": {},
   "outputs": [],
   "source": [
    "y={}\n",
    "for i in x:\n",
    "    for j in i:\n",
    "        if j[0] in y:\n",
    "            y[j[0]].append(j[1])\n",
    "        else:\n",
    "            y[j[0]]=[]\n",
    "            y[j[0]].append(j[1])\n",
    "for i in y:\n",
    "    print(i,y[i])"
   ]
  },
  {
   "cell_type": "code",
   "execution_count": null,
   "metadata": {},
   "outputs": [],
   "source": [
    "keypred={}\n",
    "\n",
    "for i in y:\n",
    "    x=\"\"\n",
    "    for j in y[i]:\n",
    "        x=x+\" \"+str(j)\n",
    "    x=x.strip()\n",
    "    keypred[i]=x\n",
    "for i in keypred:\n",
    "    print(i,str(keypred[i]))"
   ]
  },
  {
   "cell_type": "code",
   "execution_count": null,
   "metadata": {},
   "outputs": [],
   "source": [
    "import csv\n",
    "\n",
    "with open ('output1.csv','w',newline=\"\") as mfile:\n",
    "    writer=csv.writer(mfile)\n",
    "    writer.writerow([\"movie_id\",\"predictions\"])\n",
    "    for key , value in keypred.items():\n",
    "        writer.writerow([key,value])"
   ]
  },
  {
   "cell_type": "code",
   "execution_count": null,
   "metadata": {},
   "outputs": [],
   "source": []
  }
 ],
 "metadata": {
  "kernelspec": {
   "display_name": "Python 3",
   "language": "python",
   "name": "python3"
  },
  "language_info": {
   "codemirror_mode": {
    "name": "ipython",
    "version": 3
   },
   "file_extension": ".py",
   "mimetype": "text/x-python",
   "name": "python",
   "nbconvert_exporter": "python",
   "pygments_lexer": "ipython3",
   "version": "3.7.6"
  }
 },
 "nbformat": 4,
 "nbformat_minor": 2
}
